{
 "cells": [
  {
   "cell_type": "markdown",
   "id": "48e9985e",
   "metadata": {},
   "source": [
    "# SC1015 Mini Project: Signature Forgery Detection\n",
    "\n",
    "  Welcome to our mini project! This first section will run you through the overview of what our project is about. We decided to follow the Datapipeline taught to us in the DataScience portion of this module: \n",
    "  \n",
    "  1. __Practical Motivation:__ Why do we choose this problem?\n",
    "  2. __Sample Collection:__ Which dataset do we use?\n",
    "  3. __Problem Formulation:__ Rephrasing the problem into a datascience problem\n",
    "  4. __Data Preparation:__ Steps needed to setup the dataset\n",
    "  5. __Statistical Description:__ Statistics to describe our input data\n",
    "  6. __Exploratory Analysis:__ What can we analyse from the statistics of our data?\n",
    "  7. __Pattern Recognition:__ What patterns/features can we find from our data?\n",
    "  8. __Analytic Visualization:__ How can we visualise what we're working with?\n",
    "  9. __Machine Learning:__ Which model do we use to solve our problem?\n",
    "  10. __Algorithmic Optimization:__ How can we optimise our algorithm? \n",
    "  11. __Statistical Inference:__ What can we infer from the results?\n",
    "  12. __Information Presentation:__ Side by side comparison of the results"
   ]
  },
  {
   "cell_type": "markdown",
   "id": "c645bc9a",
   "metadata": {},
   "source": [
    "## Practical Motivation\n",
    "  Signature forgery is a problem that bypasses an untrained eye. Not everyone has the patience to meticulously check the authenticity of thousands of documents. In fact, a Singaporean man was able to forge documents that helped him get 38 jobs in 4 years ([CNA](https://www.channelnewsasia.com/singapore/man-forge-documents-nus-degree-get-jobs-38-companies-890881), 2019). \n",
    "  ![Signature Forgery](https://www.martypearce.com/wp-content/uploads/2019/01/3e406f_00f3feb43e17449c8bfacc0f850bf362mv2.jpg)\n",
    "  Forgery is a real concern and humans are bound to make mistakes when checking for forged documents. On a tiring day, we may not always be able to find forged documents and so our group strives to build a working model that can consistently detect Signature Forgery."
   ]
  },
  {
   "cell_type": "markdown",
   "id": "e260f4ee",
   "metadata": {},
   "source": [
    "## Sample Collection\n",
    "  The dataset we will be using is from Kaggle: [https://www.kaggle.com/datasets/robinreni/signature-verification-dataset](https://www.kaggle.com/datasets/robinreni/signature-verification-dataset). \n",
    "  It has the following directory:\n",
    "* sign_data\n",
    "  * test\n",
    "  * train\n",
    "  * test_data.csv\n",
    "  * train_data.csv\n",
    "  \n",
    "  \n",
    "1. There are a total of 2,149 images(png)\n",
    "2. A training set of 69 different individuals' signatures, separated into a genuine and forged set of images\n",
    "3. A test set of 21 different individuals' signatures, separated into a genuine and forged set of images"
   ]
  },
  {
   "cell_type": "markdown",
   "id": "e7415547",
   "metadata": {},
   "source": [
    "## Problem Formulation\n",
    "  In terms of Data Science, this is definitely a \"Classification\" type of problem and we will be working with unstructured data, namely images. If we were to phrase this problem we would ask:\n",
    "  \n",
    "  __Is this image a genuine or forged signature?__\n",
    "  \n",
    "  This is a binary type of classification"
   ]
  },
  {
   "cell_type": "markdown",
   "id": "d9ad0a7b",
   "metadata": {},
   "source": [
    "## Data Preparation"
   ]
  },
  {
   "cell_type": "markdown",
   "id": "a55971b7",
   "metadata": {},
   "source": [
    "## Statistical Description"
   ]
  },
  {
   "cell_type": "markdown",
   "id": "31be68e7",
   "metadata": {},
   "source": [
    "## Exploratory Analysis"
   ]
  },
  {
   "cell_type": "markdown",
   "id": "967d0758",
   "metadata": {},
   "source": [
    "## Pattern Recognition"
   ]
  },
  {
   "cell_type": "markdown",
   "id": "c051e0b9",
   "metadata": {},
   "source": [
    "## Analytic Visualization"
   ]
  },
  {
   "cell_type": "markdown",
   "id": "2515a5a8",
   "metadata": {},
   "source": [
    "## Machine Learning"
   ]
  },
  {
   "cell_type": "markdown",
   "id": "80f90734",
   "metadata": {},
   "source": [
    "## Algorithmic Optimization"
   ]
  },
  {
   "cell_type": "markdown",
   "id": "ec098d26",
   "metadata": {},
   "source": [
    "## Statistical Inference"
   ]
  },
  {
   "cell_type": "markdown",
   "id": "1e38e070",
   "metadata": {},
   "source": [
    "## Information Presentation"
   ]
  }
 ],
 "metadata": {
  "kernelspec": {
   "display_name": "Python 3 (ipykernel)",
   "language": "python",
   "name": "python3"
  },
  "language_info": {
   "codemirror_mode": {
    "name": "ipython",
    "version": 3
   },
   "file_extension": ".py",
   "mimetype": "text/x-python",
   "name": "python",
   "nbconvert_exporter": "python",
   "pygments_lexer": "ipython3",
   "version": "3.9.13"
  }
 },
 "nbformat": 4,
 "nbformat_minor": 5
}
