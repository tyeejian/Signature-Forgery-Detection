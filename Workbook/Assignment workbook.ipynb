{
 "cells": [
  {
   "cell_type": "markdown",
   "id": "48f69e95",
   "metadata": {},
   "source": [
    "# Signature Forgery detection\n",
    "\n",
    "This assignment is to find ways we can identify whether an image is **real** or **forged**."
   ]
  },
  {
   "cell_type": "markdown",
   "id": "93e0794c",
   "metadata": {},
   "source": [
    "## MSE Approach\n",
    "\n",
    "One way we can approach the problem is to find the MSE between 2 images. This will give us the similarity of the 2 images, the lower the MSE, the more similar it is. \n",
    "\n",
    "Before we proceed, as the dataset is already split into **train set** and **test set**, we do not have to further split them into train and test set. We will use the existing train and test set split in our detection. \n",
    "\n",
    "As the dataset is in the form of picture (.png), we have to find ways to convert them into statistical data so we can use the **MSE** approach. One of the ways is to convert the pictures into 2D array of RGB representing the pictures.\n",
    "\n"
   ]
  },
  {
   "cell_type": "markdown",
   "id": "81283537",
   "metadata": {},
   "source": [
    "## Converting images to 2D array\n",
    "\n",
    "We will just use existing library such as **OpenCV** to achieve this.\n",
    "\n",
    "___Need to install OpenCV packages if encounter error___ `ImportError: No module named cv2`"
   ]
  },
  {
   "cell_type": "code",
   "execution_count": 23,
   "id": "f643a243",
   "metadata": {},
   "outputs": [
    {
     "name": "stdout",
     "output_type": "stream",
     "text": [
      "ImageA dimension:  (359, 725)\n",
      "ImageB dimension:  (312, 629)\n",
      "in else\n"
     ]
    },
    {
     "ename": "error",
     "evalue": "OpenCV(4.7.0) :-1: error: (-5:Bad argument) in function 'imshow'\n> Overload resolution failed:\n>  - imshow() missing required argument 'mat' (pos 2)\n>  - imshow() missing required argument 'mat' (pos 2)\n>  - imshow() missing required argument 'mat' (pos 2)\n",
     "output_type": "error",
     "traceback": [
      "\u001b[0;31m---------------------------------------------------------------------------\u001b[0m",
      "\u001b[0;31merror\u001b[0m                                     Traceback (most recent call last)",
      "\u001b[0;32m/var/folders/_5/h0pwj9_d6w1_95cqd2tl4x800000gn/T/ipykernel_84852/960899748.py\u001b[0m in \u001b[0;36m<module>\u001b[0;34m\u001b[0m\n\u001b[1;32m     42\u001b[0m \u001b[0;31m# mse1\u001b[0m\u001b[0;34m\u001b[0m\u001b[0;34m\u001b[0m\u001b[0m\n\u001b[1;32m     43\u001b[0m \u001b[0mimage_resize\u001b[0m\u001b[0;34m(\u001b[0m\u001b[0mimg_001_real\u001b[0m\u001b[0;34m,\u001b[0m \u001b[0mimg_001_forged\u001b[0m\u001b[0;34m)\u001b[0m\u001b[0;34m\u001b[0m\u001b[0;34m\u001b[0m\u001b[0m\n\u001b[0;32m---> 44\u001b[0;31m \u001b[0mcv2\u001b[0m\u001b[0;34m.\u001b[0m\u001b[0mimshow\u001b[0m\u001b[0;34m(\u001b[0m\u001b[0mimg_001_real\u001b[0m\u001b[0;34m)\u001b[0m\u001b[0;34m\u001b[0m\u001b[0;34m\u001b[0m\u001b[0m\n\u001b[0m\u001b[1;32m     45\u001b[0m \u001b[0mplt\u001b[0m\u001b[0;34m.\u001b[0m\u001b[0mimshow\u001b[0m\u001b[0;34m(\u001b[0m\u001b[0mimg_001_forged\u001b[0m\u001b[0;34m)\u001b[0m\u001b[0;34m\u001b[0m\u001b[0;34m\u001b[0m\u001b[0m\n",
      "\u001b[0;31merror\u001b[0m: OpenCV(4.7.0) :-1: error: (-5:Bad argument) in function 'imshow'\n> Overload resolution failed:\n>  - imshow() missing required argument 'mat' (pos 2)\n>  - imshow() missing required argument 'mat' (pos 2)\n>  - imshow() missing required argument 'mat' (pos 2)\n"
     ]
    }
   ],
   "source": [
    "# Import libraries\n",
    "import cv2 \n",
    "import numpy as np\n",
    "from matplotlib import pyplot as plt\n",
    "from PIL import Image\n",
    "\n",
    "\n",
    "# Define folder structure as a constant\n",
    "DATASET_FOLDER = \"../Dataset\"\n",
    "TEST_SET_FOLDER = \"/test\"\n",
    "TRAIN_SET_FOLDER = \"/train\"\n",
    "\n",
    "# Define MSE function\n",
    "def mse(imageA, imageB):\n",
    "    # the 'Mean Squared Error' between the two images is the\n",
    "    # sum of the squared difference between the two images;\n",
    "    # NOTE: the two images must have the same dimension\n",
    "    err = np.sum((imageA.astype(\"float\") - imageB.astype(\"float\")) ** 2)\n",
    "    err /= float(imageA.shape[0] * imageA.shape[1])\n",
    "    \n",
    "    # return the MSE, the lower the error, the more \"similar\"\n",
    "    # the two images are\n",
    "    return err\n",
    "\n",
    "# Define image dimension check and resize if not the same\n",
    "def image_resize(imageA, imageB):\n",
    "    if not (imageA.shape == imageB.shape):\n",
    "        # Scale the smaller dimension pictures\n",
    "        print(\"ImageA dimension: \", imageA.shape)\n",
    "        print(\"ImageB dimension: \", imageB.shape)\n",
    "        if (imageA.shape < imageB.shape):\n",
    "            print(\"in if\")\n",
    "        elif (imageB.shape < imageA.shape):\n",
    "            print(\"in else\")\n",
    "\n",
    "        \n",
    "img_001_real = cv2.imread(DATASET_FOLDER + TRAIN_SET_FOLDER + '/001/001_01.png', 0)\n",
    "img_001_forged = cv2.imread(DATASET_FOLDER + TRAIN_SET_FOLDER + '/001_forg/0119001_01.png',0)\n",
    "\n",
    "\n",
    "# mse1 = mse(img_001_real, img_001_forged)\n",
    "# mse1\n",
    "image_resize(img_001_real, img_001_forged)\n",
    "plt.imshow(img_001_real)\n",
    "plt.imshow(img_001_forged)"
   ]
  },
  {
   "cell_type": "code",
   "execution_count": null,
   "id": "32900d7c",
   "metadata": {},
   "outputs": [],
   "source": []
  }
 ],
 "metadata": {
  "kernelspec": {
   "display_name": "Python 3 (ipykernel)",
   "language": "python",
   "name": "python3"
  },
  "language_info": {
   "codemirror_mode": {
    "name": "ipython",
    "version": 3
   },
   "file_extension": ".py",
   "mimetype": "text/x-python",
   "name": "python",
   "nbconvert_exporter": "python",
   "pygments_lexer": "ipython3",
   "version": "3.9.13"
  }
 },
 "nbformat": 4,
 "nbformat_minor": 5
}
