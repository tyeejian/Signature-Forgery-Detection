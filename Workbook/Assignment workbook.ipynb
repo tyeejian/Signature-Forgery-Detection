{
 "cells": [
  {
   "cell_type": "markdown",
   "id": "1af14b02",
   "metadata": {},
   "source": [
    "# Signature Forgery detection\n",
    "\n",
    "This assignment is to find ways we can identify whether an image is **real** or **forged**."
   ]
  },
  {
   "cell_type": "markdown",
   "id": "e61ae7d8",
   "metadata": {},
   "source": [
    "## MSE Approach\n",
    "\n",
    "One way we can approach the problem is to find the **MSE** between 2 images. This will give us the similarity of the 2 images, the lower the MSE, the more similar it is. \n",
    "\n",
    "Before we proceed, as the dataset is already split into **train set** and **test set**, we do not have to further split them into train and test set. We will use the existing train and test set split in our detection. \n",
    "\n",
    "As the dataset is in the form of picture (.png), we have to find ways to convert them into statistical data so we can use the **MSE** approach. One of the ways is to convert the pictures into 2D array of RGB representing the pictures.\n",
    "\n"
   ]
  },
  {
   "cell_type": "markdown",
   "id": "a886ab72",
   "metadata": {},
   "source": [
    "## Converting images to 2D array\n",
    "\n",
    "We will just use existing library such as **OpenCV** to achieve this.\n",
    "\n",
    "___Need to install OpenCV packages if encounter error___ `ImportError: No module named cv2`"
   ]
  },
  {
   "cell_type": "code",
   "execution_count": 1,
   "id": "16eaf30b",
   "metadata": {},
   "outputs": [
    {
     "name": "stdout",
     "output_type": "stream",
     "text": [
      "The MSE of img_001_real and img_001_forge is:\t 900.9136797617904\n",
      "The MSE of img_001_real and img_002_real is:\t 1183.9209835750648\n",
      "The MSE of img_001_real and itself is:\t 0.0\n"
     ]
    }
   ],
   "source": [
    "# Import libraries\n",
    "import cv2 \n",
    "import numpy as np\n",
    "from matplotlib import pyplot as plt\n",
    "from PIL import Image\n",
    "\n",
    "\n",
    "# Define folder structure as a constant\n",
    "DATASET_FOLDER = \"../Dataset\"\n",
    "TEST_SET_FOLDER = \"/test\"\n",
    "TRAIN_SET_FOLDER = \"/train\"\n",
    "\n",
    "# Define MSE function\n",
    "def mse(imageA, imageB):\n",
    "    # the 'Mean Squared Error' between the two images is the\n",
    "    # sum of the squared difference between the two images;\n",
    "    # NOTE: the two images must have the same dimension\n",
    "    err = np.sum((imageA.astype(\"float\") - imageB.astype(\"float\")) ** 2)\n",
    "    err /= float(imageA.shape[0] * imageA.shape[1])\n",
    "    \n",
    "    # return the MSE, the lower the error, the more \"similar\"\n",
    "    # the two images are\n",
    "    return err\n",
    "\n",
    "# Define image dimension check and resize if not the same\n",
    "def image_resize(imageA, imageB):\n",
    "    if not (imageA.shape == imageB.shape):\n",
    "        # Scale the smaller dimension pictures\n",
    "        if (imageA.shape < imageB.shape):\n",
    "            dim = (imageB.shape[1], imageB.shape[0])\n",
    "            imageA = cv2.resize(imageA, dim)\n",
    "        elif (imageB.shape < imageA.shape):\n",
    "            dim = (imageA.shape[1], imageA.shape[0])\n",
    "            imageB = cv2.resize(imageB, dim)\n",
    "        \n",
    "    return imageA, imageB\n",
    "\n",
    "\n",
    "img_001_real = cv2.imread(DATASET_FOLDER + TRAIN_SET_FOLDER + '/real/001/001_01.png', 0)\n",
    "img_001_forged = cv2.imread(DATASET_FOLDER + TRAIN_SET_FOLDER + '/forged/001_forg/0119001_01.png',0)\n",
    "\n",
    "# Resize the images if they are not the same\n",
    "img_001_real , img_001_forged=  image_resize(img_001_real,img_001_forged)\n",
    "\n",
    "# Calculate MSE of signature 1 and its forged\n",
    "MSE = mse(img_001_real,img_001_forged)\n",
    "print(\"The MSE of img_001_real and img_001_forge is:\\t\", MSE)\n",
    "\n",
    "\n",
    "img_002_real = cv2.imread(DATASET_FOLDER + TRAIN_SET_FOLDER + '/real/002/002_02.png',0)\n",
    "img_001_real , img_002_real=  image_resize(img_001_real,img_002_real)\n",
    "\n",
    "# Calculate MSE of signature 1 and signature 2\n",
    "MSE = mse(img_001_real,img_002_real)\n",
    "print(\"The MSE of img_001_real and img_002_real is:\\t\", MSE)\n",
    "\n",
    "# Calculate MSE of signature 1 and itself\n",
    "MSE = mse(img_001_real,img_001_real)\n",
    "print(\"The MSE of img_001_real and itself is:\\t\", MSE)"
   ]
  },
  {
   "cell_type": "markdown",
   "id": "6a698553",
   "metadata": {},
   "source": [
    "As shown above, we can see that the MSE of real and forged is below **1000** whereas MSE of image1 and image2 has a MSE of above **1000**. Additionally, MSE of **0** implies the images are identical.\n",
    "\n",
    "Using MSE as an approach to identify forgery is not an ideal solution as MSE **below 1000** should be considered as *similar/genuine* but in our case forged signature is considered genuine - hence a **false positive** result.\n",
    "\n",
    "We have to find another approach of finding similarity of images, which we have taken **SSIM** as another approach."
   ]
  },
  {
   "cell_type": "markdown",
   "id": "31c8a75a",
   "metadata": {},
   "source": [
    "## SSIM Approach\n",
    "\n",
    "**SSIM**, stands for  is another method to find similarity between 2 images. It works somewhat similar to MSE but it is more in depth in which it consider other areas as well. "
   ]
  }
 ],
 "metadata": {
  "kernelspec": {
   "display_name": "Python 3 (ipykernel)",
   "language": "python",
   "name": "python3"
  },
  "language_info": {
   "codemirror_mode": {
    "name": "ipython",
    "version": 3
   },
   "file_extension": ".py",
   "mimetype": "text/x-python",
   "name": "python",
   "nbconvert_exporter": "python",
   "pygments_lexer": "ipython3",
   "version": "3.9.13"
  }
 },
 "nbformat": 4,
 "nbformat_minor": 5
}
